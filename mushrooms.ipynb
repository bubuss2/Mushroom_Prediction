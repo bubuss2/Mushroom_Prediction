{
 "cells": [
  {
   "attachments": {},
   "cell_type": "markdown",
   "metadata": {},
   "source": [
    "### Imports\n"
   ]
  },
  {
   "cell_type": "code",
   "execution_count": 1,
   "metadata": {},
   "outputs": [],
   "source": [
    "import pandas as pd\n",
    "import numpy as np\n",
    "\n",
    "import matplotlib.pyplot as plt\n",
    "\n",
    "from sklearn.model_selection import train_test_split\n",
    "\n",
    "from sklearn.pipeline import Pipeline\n",
    "from sklearn.preprocessing import StandardScaler\n",
    "from sklearn.compose import ColumnTransformer\n",
    "from sklearn.impute import SimpleImputer\n",
    "from sklearn.preprocessing import OneHotEncoder\n",
    "from sklearn.model_selection import GridSearchCV\n",
    "from sklearn.metrics import accuracy_score\n",
    "\n",
    "from xgboost import XGBClassifier\n"
   ]
  },
  {
   "attachments": {},
   "cell_type": "markdown",
   "metadata": {},
   "source": [
    "### Load Data"
   ]
  },
  {
   "cell_type": "code",
   "execution_count": 2,
   "metadata": {},
   "outputs": [],
   "source": [
    "data = pd.read_csv(\"data/mushrooms.csv\")\n"
   ]
  },
  {
   "attachments": {},
   "cell_type": "markdown",
   "metadata": {},
   "source": [
    "### Data Exploration"
   ]
  },
  {
   "cell_type": "code",
   "execution_count": 3,
   "metadata": {},
   "outputs": [
    {
     "data": {
      "text/html": [
       "<div>\n",
       "<style scoped>\n",
       "    .dataframe tbody tr th:only-of-type {\n",
       "        vertical-align: middle;\n",
       "    }\n",
       "\n",
       "    .dataframe tbody tr th {\n",
       "        vertical-align: top;\n",
       "    }\n",
       "\n",
       "    .dataframe thead th {\n",
       "        text-align: right;\n",
       "    }\n",
       "</style>\n",
       "<table border=\"1\" class=\"dataframe\">\n",
       "  <thead>\n",
       "    <tr style=\"text-align: right;\">\n",
       "      <th></th>\n",
       "      <th>class</th>\n",
       "      <th>cap-shape</th>\n",
       "      <th>cap-surface</th>\n",
       "      <th>cap-color</th>\n",
       "      <th>bruises</th>\n",
       "      <th>odor</th>\n",
       "      <th>gill-attachment</th>\n",
       "      <th>gill-spacing</th>\n",
       "      <th>gill-size</th>\n",
       "      <th>gill-color</th>\n",
       "      <th>stalk-shape</th>\n",
       "      <th>stalk-root</th>\n",
       "      <th>stalk-surface-above-ring</th>\n",
       "      <th>stalk-surface-below-ring</th>\n",
       "      <th>stalk-color-above-ring</th>\n",
       "      <th>stalk-color-below-ring</th>\n",
       "      <th>veil-type</th>\n",
       "      <th>veil-color</th>\n",
       "      <th>ring-number</th>\n",
       "      <th>ring-type</th>\n",
       "      <th>spore-print-color</th>\n",
       "      <th>population</th>\n",
       "      <th>habitat</th>\n",
       "    </tr>\n",
       "  </thead>\n",
       "  <tbody>\n",
       "    <tr>\n",
       "      <th>0</th>\n",
       "      <td>p</td>\n",
       "      <td>x</td>\n",
       "      <td>s</td>\n",
       "      <td>n</td>\n",
       "      <td>t</td>\n",
       "      <td>p</td>\n",
       "      <td>f</td>\n",
       "      <td>c</td>\n",
       "      <td>n</td>\n",
       "      <td>k</td>\n",
       "      <td>e</td>\n",
       "      <td>e</td>\n",
       "      <td>s</td>\n",
       "      <td>s</td>\n",
       "      <td>w</td>\n",
       "      <td>w</td>\n",
       "      <td>p</td>\n",
       "      <td>w</td>\n",
       "      <td>o</td>\n",
       "      <td>p</td>\n",
       "      <td>k</td>\n",
       "      <td>s</td>\n",
       "      <td>u</td>\n",
       "    </tr>\n",
       "    <tr>\n",
       "      <th>1</th>\n",
       "      <td>e</td>\n",
       "      <td>x</td>\n",
       "      <td>s</td>\n",
       "      <td>y</td>\n",
       "      <td>t</td>\n",
       "      <td>a</td>\n",
       "      <td>f</td>\n",
       "      <td>c</td>\n",
       "      <td>b</td>\n",
       "      <td>k</td>\n",
       "      <td>e</td>\n",
       "      <td>c</td>\n",
       "      <td>s</td>\n",
       "      <td>s</td>\n",
       "      <td>w</td>\n",
       "      <td>w</td>\n",
       "      <td>p</td>\n",
       "      <td>w</td>\n",
       "      <td>o</td>\n",
       "      <td>p</td>\n",
       "      <td>n</td>\n",
       "      <td>n</td>\n",
       "      <td>g</td>\n",
       "    </tr>\n",
       "    <tr>\n",
       "      <th>2</th>\n",
       "      <td>e</td>\n",
       "      <td>b</td>\n",
       "      <td>s</td>\n",
       "      <td>w</td>\n",
       "      <td>t</td>\n",
       "      <td>l</td>\n",
       "      <td>f</td>\n",
       "      <td>c</td>\n",
       "      <td>b</td>\n",
       "      <td>n</td>\n",
       "      <td>e</td>\n",
       "      <td>c</td>\n",
       "      <td>s</td>\n",
       "      <td>s</td>\n",
       "      <td>w</td>\n",
       "      <td>w</td>\n",
       "      <td>p</td>\n",
       "      <td>w</td>\n",
       "      <td>o</td>\n",
       "      <td>p</td>\n",
       "      <td>n</td>\n",
       "      <td>n</td>\n",
       "      <td>m</td>\n",
       "    </tr>\n",
       "    <tr>\n",
       "      <th>3</th>\n",
       "      <td>p</td>\n",
       "      <td>x</td>\n",
       "      <td>y</td>\n",
       "      <td>w</td>\n",
       "      <td>t</td>\n",
       "      <td>p</td>\n",
       "      <td>f</td>\n",
       "      <td>c</td>\n",
       "      <td>n</td>\n",
       "      <td>n</td>\n",
       "      <td>e</td>\n",
       "      <td>e</td>\n",
       "      <td>s</td>\n",
       "      <td>s</td>\n",
       "      <td>w</td>\n",
       "      <td>w</td>\n",
       "      <td>p</td>\n",
       "      <td>w</td>\n",
       "      <td>o</td>\n",
       "      <td>p</td>\n",
       "      <td>k</td>\n",
       "      <td>s</td>\n",
       "      <td>u</td>\n",
       "    </tr>\n",
       "    <tr>\n",
       "      <th>4</th>\n",
       "      <td>e</td>\n",
       "      <td>x</td>\n",
       "      <td>s</td>\n",
       "      <td>g</td>\n",
       "      <td>f</td>\n",
       "      <td>n</td>\n",
       "      <td>f</td>\n",
       "      <td>w</td>\n",
       "      <td>b</td>\n",
       "      <td>k</td>\n",
       "      <td>t</td>\n",
       "      <td>e</td>\n",
       "      <td>s</td>\n",
       "      <td>s</td>\n",
       "      <td>w</td>\n",
       "      <td>w</td>\n",
       "      <td>p</td>\n",
       "      <td>w</td>\n",
       "      <td>o</td>\n",
       "      <td>e</td>\n",
       "      <td>n</td>\n",
       "      <td>a</td>\n",
       "      <td>g</td>\n",
       "    </tr>\n",
       "    <tr>\n",
       "      <th>5</th>\n",
       "      <td>e</td>\n",
       "      <td>x</td>\n",
       "      <td>y</td>\n",
       "      <td>y</td>\n",
       "      <td>t</td>\n",
       "      <td>a</td>\n",
       "      <td>f</td>\n",
       "      <td>c</td>\n",
       "      <td>b</td>\n",
       "      <td>n</td>\n",
       "      <td>e</td>\n",
       "      <td>c</td>\n",
       "      <td>s</td>\n",
       "      <td>s</td>\n",
       "      <td>w</td>\n",
       "      <td>w</td>\n",
       "      <td>p</td>\n",
       "      <td>w</td>\n",
       "      <td>o</td>\n",
       "      <td>p</td>\n",
       "      <td>k</td>\n",
       "      <td>n</td>\n",
       "      <td>g</td>\n",
       "    </tr>\n",
       "    <tr>\n",
       "      <th>6</th>\n",
       "      <td>e</td>\n",
       "      <td>b</td>\n",
       "      <td>s</td>\n",
       "      <td>w</td>\n",
       "      <td>t</td>\n",
       "      <td>a</td>\n",
       "      <td>f</td>\n",
       "      <td>c</td>\n",
       "      <td>b</td>\n",
       "      <td>g</td>\n",
       "      <td>e</td>\n",
       "      <td>c</td>\n",
       "      <td>s</td>\n",
       "      <td>s</td>\n",
       "      <td>w</td>\n",
       "      <td>w</td>\n",
       "      <td>p</td>\n",
       "      <td>w</td>\n",
       "      <td>o</td>\n",
       "      <td>p</td>\n",
       "      <td>k</td>\n",
       "      <td>n</td>\n",
       "      <td>m</td>\n",
       "    </tr>\n",
       "    <tr>\n",
       "      <th>7</th>\n",
       "      <td>e</td>\n",
       "      <td>b</td>\n",
       "      <td>y</td>\n",
       "      <td>w</td>\n",
       "      <td>t</td>\n",
       "      <td>l</td>\n",
       "      <td>f</td>\n",
       "      <td>c</td>\n",
       "      <td>b</td>\n",
       "      <td>n</td>\n",
       "      <td>e</td>\n",
       "      <td>c</td>\n",
       "      <td>s</td>\n",
       "      <td>s</td>\n",
       "      <td>w</td>\n",
       "      <td>w</td>\n",
       "      <td>p</td>\n",
       "      <td>w</td>\n",
       "      <td>o</td>\n",
       "      <td>p</td>\n",
       "      <td>n</td>\n",
       "      <td>s</td>\n",
       "      <td>m</td>\n",
       "    </tr>\n",
       "    <tr>\n",
       "      <th>8</th>\n",
       "      <td>p</td>\n",
       "      <td>x</td>\n",
       "      <td>y</td>\n",
       "      <td>w</td>\n",
       "      <td>t</td>\n",
       "      <td>p</td>\n",
       "      <td>f</td>\n",
       "      <td>c</td>\n",
       "      <td>n</td>\n",
       "      <td>p</td>\n",
       "      <td>e</td>\n",
       "      <td>e</td>\n",
       "      <td>s</td>\n",
       "      <td>s</td>\n",
       "      <td>w</td>\n",
       "      <td>w</td>\n",
       "      <td>p</td>\n",
       "      <td>w</td>\n",
       "      <td>o</td>\n",
       "      <td>p</td>\n",
       "      <td>k</td>\n",
       "      <td>v</td>\n",
       "      <td>g</td>\n",
       "    </tr>\n",
       "    <tr>\n",
       "      <th>9</th>\n",
       "      <td>e</td>\n",
       "      <td>b</td>\n",
       "      <td>s</td>\n",
       "      <td>y</td>\n",
       "      <td>t</td>\n",
       "      <td>a</td>\n",
       "      <td>f</td>\n",
       "      <td>c</td>\n",
       "      <td>b</td>\n",
       "      <td>g</td>\n",
       "      <td>e</td>\n",
       "      <td>c</td>\n",
       "      <td>s</td>\n",
       "      <td>s</td>\n",
       "      <td>w</td>\n",
       "      <td>w</td>\n",
       "      <td>p</td>\n",
       "      <td>w</td>\n",
       "      <td>o</td>\n",
       "      <td>p</td>\n",
       "      <td>k</td>\n",
       "      <td>s</td>\n",
       "      <td>m</td>\n",
       "    </tr>\n",
       "  </tbody>\n",
       "</table>\n",
       "</div>"
      ],
      "text/plain": [
       "  class cap-shape cap-surface  ... spore-print-color population habitat\n",
       "0     p         x           s  ...                 k          s       u\n",
       "1     e         x           s  ...                 n          n       g\n",
       "2     e         b           s  ...                 n          n       m\n",
       "3     p         x           y  ...                 k          s       u\n",
       "4     e         x           s  ...                 n          a       g\n",
       "5     e         x           y  ...                 k          n       g\n",
       "6     e         b           s  ...                 k          n       m\n",
       "7     e         b           y  ...                 n          s       m\n",
       "8     p         x           y  ...                 k          v       g\n",
       "9     e         b           s  ...                 k          s       m\n",
       "\n",
       "[10 rows x 23 columns]"
      ]
     },
     "execution_count": 3,
     "metadata": {},
     "output_type": "execute_result"
    }
   ],
   "source": [
    "data.head(10)\n"
   ]
  },
  {
   "attachments": {},
   "cell_type": "markdown",
   "metadata": {},
   "source": [
    "Display the distribution of edible and poisonous mushrooms."
   ]
  },
  {
   "cell_type": "code",
   "execution_count": 4,
   "metadata": {},
   "outputs": [
    {
     "data": {
      "image/png": "[encoded data removed]",
      "text/plain": [
       "<Figure size 640x480 with 1 Axes>"
      ]
     },
     "metadata": {},
     "output_type": "display_data"
    }
   ],
   "source": [
    "labels = \"Edible\", \"Poisonous\"\n",
    "sizes = [\n",
    "    data.describe()[\"class\"][\"freq\"],\n",
    "    data.describe()[\"class\"][\"count\"] - data.describe()[\"class\"][\"freq\"],\n",
    "]\n",
    "\n",
    "fig, ax = plt.subplots()\n",
    "ax.pie(\n",
    "    sizes,\n",
    "    labels=labels,\n",
    "    autopct=\"%1.1f%%\",\n",
    "    shadow=True,\n",
    "    startangle=90,\n",
    "    colors=[\"green\", \"magenta\"],\n",
    ")\n",
    "\n",
    "ax.set_title(\"Mushroom Edibility\")\n",
    "ax.legend(labels, loc=\"upper right\")\n",
    "ax.axis(\"equal\")\n",
    "plt.tight_layout()\n",
    "\n",
    "plt.show()\n"
   ]
  },
  {
   "attachments": {},
   "cell_type": "markdown",
   "metadata": {},
   "source": [
    "Mushroom edibility by cap shape"
   ]
  },
  {
   "cell_type": "code",
   "execution_count": 5,
   "metadata": {},
   "outputs": [
    {
     "data": {
      "image/png": "[encoded data removed]",
      "text/plain": [
       "<Figure size 1200x700 with 1 Axes>"
      ]
     },
     "metadata": {},
     "output_type": "display_data"
    }
   ],
   "source": [
    "cap_shapes = data.groupby([\"cap-shape\", \"class\"]).size().unstack()\n",
    "cap_shapes.fillna(0)\n",
    "cap_shapes_mapping = {\n",
    "    \"b\": \"bell\",\n",
    "    \"c\": \"conical\",\n",
    "    \"x\": \"convex\",\n",
    "    \"f\": \"flat\",\n",
    "    \"k\": \"knobbed\",\n",
    "    \"s\": \"sunken\",\n",
    "}\n",
    "\n",
    "cap_shapes.rename(index=cap_shapes_mapping, inplace=True)\n",
    "\n",
    "ax = cap_shapes.plot.bar(color=[\"green\", \"magenta\"], rot=0, figsize=(12, 7), width=0.8)\n",
    "\n",
    "ax.set_title(\"Mushroom eedibility by cap shape\")\n",
    "ax.set_ylabel(\"Count\")\n",
    "ax.set_xlabel(\"Cap Shape\")\n",
    "labels = [\"Edible\", \"Poisonous\"]\n",
    "\n",
    "ax.legend(labels, loc=\"upper left\")\n",
    "plt.show()\n"
   ]
  },
  {
   "attachments": {},
   "cell_type": "markdown",
   "metadata": {},
   "source": [
    "Mushroom edibility by cap surface"
   ]
  },
  {
   "cell_type": "code",
   "execution_count": 6,
   "metadata": {},
   "outputs": [
    {
     "data": {
      "image/png": "[encoded data removed]",
      "text/plain": [
       "<Figure size 1200x700 with 1 Axes>"
      ]
     },
     "metadata": {},
     "output_type": "display_data"
    }
   ],
   "source": [
    "cap_surfaces = data.groupby([\"cap-surface\", \"class\"]).size().unstack()\n",
    "cap_surfaces.fillna(0)\n",
    "\n",
    "cap_surfaces_mapping = {\n",
    "    \"f\": \"fibrous\",\n",
    "    \"g\": \"grooves\",\n",
    "    \"s\": \"smooth\",\n",
    "    \"y\": \"scaly\",\n",
    "}\n",
    "\n",
    "cap_surfaces.rename(index=cap_surfaces_mapping, inplace=True)\n",
    "\n",
    "ax = cap_surfaces.plot.bar(color=[\"green\", \"magenta\"], rot=0, figsize=(12, 7), width=0.8)\n",
    "\n",
    "ax.set_title(\"Mushroom edibility by cap surface\")\n",
    "ax.set_ylabel(\"Count\")\n",
    "ax.set_xlabel(\"Cap Surface\")\n",
    "labels = [\"Edible\", \"Poisonous\"]\n",
    "\n",
    "ax.legend(labels, loc=\"upper left\")\n",
    "plt.show()\n"
   ]
  },
  {
   "attachments": {},
   "cell_type": "markdown",
   "metadata": {},
   "source": [
    "Mushroom edibility by color"
   ]
  },
  {
   "cell_type": "code",
   "execution_count": 7,
   "metadata": {},
   "outputs": [
    {
     "data": {
      "image/png": "[encoded data removed]",
      "text/plain": [
       "<Figure size 1200x700 with 1 Axes>"
      ]
     },
     "metadata": {},
     "output_type": "display_data"
    }
   ],
   "source": [
    "cap_colors = data.groupby([\"cap-color\", \"class\"]).size().unstack()\n",
    "cap_colors.fillna(0)\n",
    "\n",
    "cap_colors_mapping = {\n",
    "    \"n\": \"brown\",\n",
    "    \"b\": \"buff\",\n",
    "    \"c\": \"cinnamon\",\n",
    "    \"g\": \"gray\",\n",
    "    \"r\": \"green\",\n",
    "    \"p\": \"pink\",\n",
    "    \"u\": \"purple\",\n",
    "    \"e\": \"red\",\n",
    "    \"w\": \"white\",\n",
    "    \"y\": \"yellow\",\n",
    "}\n",
    "\n",
    "cap_colors.rename(index=cap_colors_mapping, inplace=True)\n",
    "\n",
    "ax = cap_colors.plot.bar(color=[\"green\", \"magenta\"], rot=0, figsize=(12, 7), width=0.8)\n",
    "\n",
    "ax.set_title(\"Mushroom edibility by cap color\")\n",
    "ax.set_xlabel(\"Cap Color\")\n",
    "ax.set_ylabel(\"Count\")\n",
    "\n",
    "labels = [\"Edible\", \"Poisonous\"]\n",
    "ax.legend(labels, loc=\"upper left\")\n",
    "plt.show()\n"
   ]
  },
  {
   "attachments": {},
   "cell_type": "markdown",
   "metadata": {},
   "source": [
    "Mushroom edibility by bruises"
   ]
  },
  {
   "cell_type": "code",
   "execution_count": 8,
   "metadata": {},
   "outputs": [
    {
     "data": {
      "image/png": "[encoded data removed]",
      "text/plain": [
       "<Figure size 1200x700 with 1 Axes>"
      ]
     },
     "metadata": {},
     "output_type": "display_data"
    }
   ],
   "source": [
    "bruises = data.groupby([\"bruises\", \"class\"]).size().unstack()\n",
    "\n",
    "bruise_mapping = {\"f\": \"no bruises\", \"t\": \"bruises\"}\n",
    "\n",
    "bruises.rename(index=bruise_mapping, inplace=True)\n",
    "\n",
    "ax = bruises.plot.bar(color=[\"green\", \"magenta\"], rot=0, figsize=(12, 7), width=0.8)\n",
    "\n",
    "ax.set_title(\"Mushroom edibility by present bruises\")\n",
    "ax.set_ylabel(\"Count\")\n",
    "\n",
    "labels = [\"Edible\", \"Poisonous\"]\n",
    "plt.legend(labels, loc=\"upper left\")\n",
    "plt.show()\n"
   ]
  },
  {
   "attachments": {},
   "cell_type": "markdown",
   "metadata": {},
   "source": [
    "### Declare utility functions to imitiate missing data"
   ]
  },
  {
   "cell_type": "code",
   "execution_count": 9,
   "metadata": {},
   "outputs": [],
   "source": [
    "def create_missing_data(data, missing_ratio):\n",
    "    \"\"\"\n",
    "    Create random missing data in a pandas DataFrame.\n",
    "\n",
    "    Parameters:\n",
    "        data (pandas.DataFrame): The input DataFrame.\n",
    "        missing_ratio (float): The ratio of missing values to create (between 0 and 1).\n",
    "\n",
    "    Returns:\n",
    "        pandas.DataFrame: The DataFrame with random missing values.\n",
    "    \"\"\"\n",
    "\n",
    "    data_with_missing = data.copy()\n",
    "    num_missing_values = int(data.size * missing_ratio)\n",
    "    missing_indices = np.random.choice(data.size, size=num_missing_values, replace=False)\n",
    "    data_with_missing.values.flat[missing_indices] = np.nan\n",
    "\n",
    "    return data_with_missing\n"
   ]
  },
  {
   "cell_type": "code",
   "execution_count": 10,
   "metadata": {},
   "outputs": [],
   "source": [
    "def fill_with_most_common(col):\n",
    "    col.fillna(col.value_counts().index[0], inplace=True)\n",
    "    return col\n"
   ]
  },
  {
   "attachments": {},
   "cell_type": "markdown",
   "metadata": {},
   "source": [
    "### Train Models"
   ]
  },
  {
   "attachments": {},
   "cell_type": "markdown",
   "metadata": {},
   "source": [
    "Split the data into train and test "
   ]
  },
  {
   "cell_type": "code",
   "execution_count": 11,
   "metadata": {},
   "outputs": [],
   "source": [
    "X_train, X_test, y_train, y_test = train_test_split(\n",
    "    data.drop(\"class\", axis=1),\n",
    "    data[\"class\"],\n",
    "    test_size=0.2,\n",
    "    shuffle=True,\n",
    "    random_state=42,\n",
    "    stratify=data[\"class\"],\n",
    ")\n"
   ]
  },
  {
   "cell_type": "markdown",
   "metadata": {},
   "source": [
    "## Create missing data"
   ]
  },
  {
   "cell_type": "code",
   "execution_count": null,
   "metadata": {},
   "outputs": [],
   "source": [
    "X_train = create_missing_data(X_train, 0.7)\n",
    "X_train = X_train.apply(lambda col: fill_with_most_common(col))\n",
    "\n",
    "X_test = create_missing_data(X_test, 0.7)\n",
    "X_test = X_test.apply(lambda col: fill_with_most_common(col))\n"
   ]
  },
  {
   "attachments": {},
   "cell_type": "markdown",
   "metadata": {},
   "source": [
    "Replace edible with 1 and poisonous with 0"
   ]
  },
  {
   "cell_type": "code",
   "execution_count": 12,
   "metadata": {},
   "outputs": [],
   "source": [
    "y_train = y_train.map({\"e\": 0, \"p\": 1})\n",
    "y_test = y_test.map({\"e\": 0, \"p\": 1})\n"
   ]
  },
  {
   "attachments": {},
   "cell_type": "markdown",
   "metadata": {},
   "source": [
    "### Preprocessing"
   ]
  },
  {
   "attachments": {},
   "cell_type": "markdown",
   "metadata": {},
   "source": [
    "Create preprocessor"
   ]
  },
  {
   "cell_type": "code",
   "execution_count": 13,
   "metadata": {},
   "outputs": [],
   "source": [
    "preprocessor = ColumnTransformer(\n",
    "    transformers=[\n",
    "        (\n",
    "            \"num\",\n",
    "            StandardScaler(),\n",
    "            data.drop(\"class\", axis=1).select_dtypes(exclude=\"object\").columns,\n",
    "        ),\n",
    "        (\n",
    "            \"cat\",\n",
    "            OneHotEncoder(handle_unknown=\"ignore\"),\n",
    "            data.drop(\"class\", axis=1).select_dtypes(include=\"object\").columns,\n",
    "        ),\n",
    "    ]\n",
    ")\n"
   ]
  },
  {
   "attachments": {},
   "cell_type": "markdown",
   "metadata": {},
   "source": [
    "### Create XGBoost model"
   ]
  },
  {
   "cell_type": "code",
   "execution_count": 14,
   "metadata": {},
   "outputs": [],
   "source": [
    "xgb_model = XGBClassifier()\n",
    "\n",
    "xgb_pipeline = Pipeline(steps=[(\"preprocessor\", preprocessor), (\"classifier\", xgb_model)])\n"
   ]
  },
  {
   "attachments": {},
   "cell_type": "markdown",
   "metadata": {},
   "source": [
    "Search for the parameters with Grid Search"
   ]
  },
  {
   "cell_type": "code",
   "execution_count": 15,
   "metadata": {},
   "outputs": [],
   "source": [
    "param_grid = {\n",
    "    \"classifier__n_estimators\": [50, 100, 150],\n",
    "    \"classifier__learning_rate\": [0.1, 0.01, 0.001],\n",
    "}\n",
    "\n",
    "grid_search = GridSearchCV(xgb_pipeline, param_grid, cv=5, n_jobs=-1, verbose=1)\n"
   ]
  },
  {
   "cell_type": "code",
   "execution_count": 16,
   "metadata": {},
   "outputs": [
    {
     "name": "stdout",
     "output_type": "stream",
     "text": [
      "Fitting 5 folds for each of 9 candidates, totalling 45 fits\n"
     ]
    },
    {
     "name": "stdout",
     "output_type": "stream",
     "text": [
      "Best parameters set found on development set:\n",
      "{'classifier__learning_rate': 0.1, 'classifier__n_estimators': 150}\n"
     ]
    }
   ],
   "source": [
    "grid_search.fit(X_train, y_train)\n",
    "\n",
    "print(\"Best parameters set found on development set:\")\n",
    "print(grid_search.best_params_)\n"
   ]
  },
  {
   "attachments": {},
   "cell_type": "markdown",
   "metadata": {},
   "source": [
    "Predict scores"
   ]
  },
  {
   "cell_type": "code",
   "execution_count": 17,
   "metadata": {},
   "outputs": [
    {
     "name": "stdout",
     "output_type": "stream",
     "text": [
      "Accuracy score:  0.8867692307692308\n"
     ]
    }
   ],
   "source": [
    "y_pred = grid_search.predict(X_test)\n",
    "\n",
    "print(\"Accuracy score: \", accuracy_score(y_test, y_pred))\n"
   ]
  },
  {
   "attachments": {},
   "cell_type": "markdown",
   "metadata": {},
   "source": [
    "### Create Neural Network model"
   ]
  },
  {
   "cell_type": "code",
   "execution_count": 18,
   "metadata": {},
   "outputs": [],
   "source": [
    "import tensorflow as tf\n",
    "import keras\n",
    "from keras.models import Sequential\n",
    "from keras.layers import Dense, CategoryEncoding\n",
    "\n",
    "from sklearn.preprocessing import OneHotEncoder\n"
   ]
  },
  {
   "attachments": {},
   "cell_type": "markdown",
   "metadata": {},
   "source": [
    "Encode input data with OneHotEncoder"
   ]
  },
  {
   "cell_type": "code",
   "execution_count": 19,
   "metadata": {},
   "outputs": [
    {
     "name": "stdout",
     "output_type": "stream",
     "text": [
      "117\n",
      "117\n"
     ]
    }
   ],
   "source": [
    "onehot_encoder = OneHotEncoder(sparse_output=False, handle_unknown=\"ignore\")\n",
    "\n",
    "X_train_onehot = onehot_encoder.fit_transform(X_train)\n",
    "X_test_onehot = onehot_encoder.transform(X_test)\n",
    "\n",
    "print(X_train_onehot.shape[1])\n",
    "print(X_test_onehot.shape[1])\n"
   ]
  },
  {
   "cell_type": "markdown",
   "metadata": {},
   "source": [
    "Create the layers for the neural network"
   ]
  },
  {
   "cell_type": "code",
   "execution_count": 20,
   "metadata": {},
   "outputs": [
    {
     "name": "stderr",
     "output_type": "stream",
     "text": [
      "2023-06-11 17:07:15.546536: I tensorflow/compiler/xla/stream_executor/cuda/cuda_gpu_executor.cc:982] could not open file to read NUMA node: /sys/bus/pci/devices/0000:01:00.0/numa_node\n",
      "Your kernel may have been built without NUMA support.\n",
      "2023-06-11 17:07:15.731175: W tensorflow/core/common_runtime/gpu/gpu_device.cc:1956] Cannot dlopen some GPU libraries. Please make sure the missing libraries mentioned above are installed properly if you would like to use GPU. Follow the guide at https://www.tensorflow.org/install/gpu for how to download and setup the required libraries for your platform.\n",
      "Skipping registering GPU devices...\n"
     ]
    }
   ],
   "source": [
    "neural_network = Sequential()\n",
    "\n",
    "neural_network.add(Dense(units=16, activation=\"elu\", input_shape=(X_train_onehot.shape[1],)))\n",
    "neural_network.add(Dense(units=16, activation=\"elu\"))\n",
    "neural_network.add(Dense(units=1, activation=\"sigmoid\"))\n",
    "\n",
    "neural_network.compile(optimizer=\"adam\", loss=\"binary_crossentropy\", metrics=[\"accuracy\"])\n"
   ]
  },
  {
   "cell_type": "code",
   "execution_count": 21,
   "metadata": {},
   "outputs": [
    {
     "name": "stdout",
     "output_type": "stream",
     "text": [
      "Epoch 1/100\n",
      "204/204 [==============================] - 2s 4ms/step - loss: 0.4524 - accuracy: 0.8141\n",
      "Epoch 2/100\n",
      "204/204 [==============================] - 1s 3ms/step - loss: 0.3090 - accuracy: 0.8684\n",
      "Epoch 3/100\n",
      "204/204 [==============================] - 1s 3ms/step - loss: 0.2904 - accuracy: 0.8724\n",
      "Epoch 4/100\n",
      "204/204 [==============================] - 1s 3ms/step - loss: 0.2804 - accuracy: 0.8772\n",
      "Epoch 5/100\n",
      "204/204 [==============================] - 1s 3ms/step - loss: 0.2800 - accuracy: 0.8744\n",
      "Epoch 6/100\n",
      "204/204 [==============================] - 1s 4ms/step - loss: 0.2753 - accuracy: 0.8771\n",
      "Epoch 7/100\n",
      "204/204 [==============================] - 1s 3ms/step - loss: 0.2718 - accuracy: 0.8812\n",
      "Epoch 8/100\n",
      "204/204 [==============================] - 1s 3ms/step - loss: 0.2706 - accuracy: 0.8792\n",
      "Epoch 9/100\n",
      "204/204 [==============================] - 1s 4ms/step - loss: 0.2700 - accuracy: 0.8780\n",
      "Epoch 10/100\n",
      "204/204 [==============================] - 1s 4ms/step - loss: 0.2650 - accuracy: 0.8806\n",
      "Epoch 11/100\n",
      "204/204 [==============================] - 1s 4ms/step - loss: 0.2629 - accuracy: 0.8812\n",
      "Epoch 12/100\n",
      "204/204 [==============================] - 1s 3ms/step - loss: 0.2594 - accuracy: 0.8840\n",
      "Epoch 13/100\n",
      "204/204 [==============================] - 1s 3ms/step - loss: 0.2569 - accuracy: 0.8828\n",
      "Epoch 14/100\n",
      "204/204 [==============================] - 1s 3ms/step - loss: 0.2553 - accuracy: 0.8854\n",
      "Epoch 15/100\n",
      "204/204 [==============================] - 1s 4ms/step - loss: 0.2518 - accuracy: 0.8843\n",
      "Epoch 16/100\n",
      "204/204 [==============================] - 1s 3ms/step - loss: 0.2491 - accuracy: 0.8846\n",
      "Epoch 17/100\n",
      "204/204 [==============================] - 1s 3ms/step - loss: 0.2472 - accuracy: 0.8863\n",
      "Epoch 18/100\n",
      "204/204 [==============================] - 1s 4ms/step - loss: 0.2449 - accuracy: 0.8875\n",
      "Epoch 19/100\n",
      "204/204 [==============================] - 1s 4ms/step - loss: 0.2407 - accuracy: 0.8924\n",
      "Epoch 20/100\n",
      "204/204 [==============================] - 1s 4ms/step - loss: 0.2389 - accuracy: 0.8900\n",
      "Epoch 21/100\n",
      "204/204 [==============================] - 1s 4ms/step - loss: 0.2379 - accuracy: 0.8866\n",
      "Epoch 22/100\n",
      "204/204 [==============================] - 1s 4ms/step - loss: 0.2343 - accuracy: 0.8954\n",
      "Epoch 23/100\n",
      "204/204 [==============================] - 1s 5ms/step - loss: 0.2301 - accuracy: 0.8954\n",
      "Epoch 24/100\n",
      "204/204 [==============================] - 1s 4ms/step - loss: 0.2281 - accuracy: 0.8954\n",
      "Epoch 25/100\n",
      "204/204 [==============================] - 1s 3ms/step - loss: 0.2252 - accuracy: 0.8941\n",
      "Epoch 26/100\n",
      "204/204 [==============================] - 1s 3ms/step - loss: 0.2237 - accuracy: 0.8978\n",
      "Epoch 27/100\n",
      "204/204 [==============================] - 1s 3ms/step - loss: 0.2215 - accuracy: 0.8984\n",
      "Epoch 28/100\n",
      "204/204 [==============================] - 1s 3ms/step - loss: 0.2204 - accuracy: 0.8981\n",
      "Epoch 29/100\n",
      "204/204 [==============================] - 1s 3ms/step - loss: 0.2179 - accuracy: 0.8954\n",
      "Epoch 30/100\n",
      "204/204 [==============================] - 1s 3ms/step - loss: 0.2182 - accuracy: 0.9018\n",
      "Epoch 31/100\n",
      "204/204 [==============================] - 1s 5ms/step - loss: 0.2140 - accuracy: 0.9006\n",
      "Epoch 32/100\n",
      "204/204 [==============================] - 1s 4ms/step - loss: 0.2156 - accuracy: 0.9024\n",
      "Epoch 33/100\n",
      "204/204 [==============================] - 1s 3ms/step - loss: 0.2118 - accuracy: 0.9024\n",
      "Epoch 34/100\n",
      "204/204 [==============================] - 1s 4ms/step - loss: 0.2118 - accuracy: 0.9015\n",
      "Epoch 35/100\n",
      "204/204 [==============================] - 1s 3ms/step - loss: 0.2120 - accuracy: 0.9023\n",
      "Epoch 36/100\n",
      "204/204 [==============================] - 1s 3ms/step - loss: 0.2099 - accuracy: 0.9044\n",
      "Epoch 37/100\n",
      "204/204 [==============================] - 1s 3ms/step - loss: 0.2073 - accuracy: 0.9048\n",
      "Epoch 38/100\n",
      "204/204 [==============================] - 1s 3ms/step - loss: 0.2064 - accuracy: 0.9054\n",
      "Epoch 39/100\n",
      "204/204 [==============================] - 1s 4ms/step - loss: 0.2048 - accuracy: 0.9064\n",
      "Epoch 40/100\n",
      "204/204 [==============================] - 1s 3ms/step - loss: 0.2101 - accuracy: 0.9038\n",
      "Epoch 41/100\n",
      "204/204 [==============================] - 1s 3ms/step - loss: 0.2039 - accuracy: 0.9066\n",
      "Epoch 42/100\n",
      "204/204 [==============================] - 1s 3ms/step - loss: 0.2033 - accuracy: 0.9060\n",
      "Epoch 43/100\n",
      "204/204 [==============================] - 1s 3ms/step - loss: 0.2032 - accuracy: 0.9060\n",
      "Epoch 44/100\n",
      "204/204 [==============================] - 1s 4ms/step - loss: 0.2017 - accuracy: 0.9088\n",
      "Epoch 45/100\n",
      "204/204 [==============================] - 1s 4ms/step - loss: 0.2006 - accuracy: 0.9077\n",
      "Epoch 46/100\n",
      "204/204 [==============================] - 1s 4ms/step - loss: 0.2018 - accuracy: 0.9057\n",
      "Epoch 47/100\n",
      "204/204 [==============================] - 1s 5ms/step - loss: 0.1991 - accuracy: 0.9078\n",
      "Epoch 48/100\n",
      "204/204 [==============================] - 1s 4ms/step - loss: 0.1984 - accuracy: 0.9080\n",
      "Epoch 49/100\n",
      "204/204 [==============================] - 1s 3ms/step - loss: 0.1999 - accuracy: 0.9066\n",
      "Epoch 50/100\n",
      "204/204 [==============================] - 1s 3ms/step - loss: 0.1994 - accuracy: 0.9084\n",
      "Epoch 51/100\n",
      "204/204 [==============================] - 1s 4ms/step - loss: 0.1962 - accuracy: 0.9111\n",
      "Epoch 52/100\n",
      "204/204 [==============================] - 1s 4ms/step - loss: 0.1987 - accuracy: 0.9092\n",
      "Epoch 53/100\n",
      "204/204 [==============================] - 1s 4ms/step - loss: 0.1958 - accuracy: 0.9112\n",
      "Epoch 54/100\n",
      "204/204 [==============================] - 1s 4ms/step - loss: 0.1963 - accuracy: 0.9094\n",
      "Epoch 55/100\n",
      "204/204 [==============================] - 1s 5ms/step - loss: 0.1937 - accuracy: 0.9120\n",
      "Epoch 56/100\n",
      "204/204 [==============================] - 1s 4ms/step - loss: 0.1946 - accuracy: 0.9108\n",
      "Epoch 57/100\n",
      "204/204 [==============================] - 1s 4ms/step - loss: 0.1935 - accuracy: 0.9112\n",
      "Epoch 58/100\n",
      "204/204 [==============================] - 1s 4ms/step - loss: 0.1936 - accuracy: 0.9115\n",
      "Epoch 59/100\n",
      "204/204 [==============================] - 1s 4ms/step - loss: 0.1927 - accuracy: 0.9114\n",
      "Epoch 60/100\n",
      "204/204 [==============================] - 1s 4ms/step - loss: 0.1931 - accuracy: 0.9149\n",
      "Epoch 61/100\n",
      "204/204 [==============================] - 1s 4ms/step - loss: 0.1915 - accuracy: 0.9098\n",
      "Epoch 62/100\n",
      "204/204 [==============================] - 1s 3ms/step - loss: 0.1926 - accuracy: 0.9123\n",
      "Epoch 63/100\n",
      "204/204 [==============================] - 1s 4ms/step - loss: 0.1929 - accuracy: 0.9140\n",
      "Epoch 64/100\n",
      "204/204 [==============================] - 1s 3ms/step - loss: 0.1898 - accuracy: 0.9149\n",
      "Epoch 65/100\n",
      "204/204 [==============================] - 1s 3ms/step - loss: 0.1932 - accuracy: 0.9132\n",
      "Epoch 66/100\n",
      "204/204 [==============================] - 1s 3ms/step - loss: 0.1914 - accuracy: 0.9126\n",
      "Epoch 67/100\n",
      "204/204 [==============================] - 1s 3ms/step - loss: 0.1889 - accuracy: 0.9146\n",
      "Epoch 68/100\n",
      "204/204 [==============================] - 1s 3ms/step - loss: 0.1888 - accuracy: 0.9143\n",
      "Epoch 69/100\n",
      "204/204 [==============================] - 1s 3ms/step - loss: 0.1894 - accuracy: 0.9154\n",
      "Epoch 70/100\n",
      "204/204 [==============================] - 1s 3ms/step - loss: 0.1885 - accuracy: 0.9128\n",
      "Epoch 71/100\n",
      "204/204 [==============================] - 1s 3ms/step - loss: 0.1881 - accuracy: 0.9169\n",
      "Epoch 72/100\n",
      "204/204 [==============================] - 1s 3ms/step - loss: 0.1888 - accuracy: 0.9114\n",
      "Epoch 73/100\n",
      "204/204 [==============================] - 1s 3ms/step - loss: 0.1861 - accuracy: 0.9138\n",
      "Epoch 74/100\n",
      "204/204 [==============================] - 1s 3ms/step - loss: 0.1855 - accuracy: 0.9172\n",
      "Epoch 75/100\n",
      "204/204 [==============================] - 1s 3ms/step - loss: 0.1872 - accuracy: 0.9161\n",
      "Epoch 76/100\n",
      "204/204 [==============================] - 1s 3ms/step - loss: 0.1876 - accuracy: 0.9157\n",
      "Epoch 77/100\n",
      "204/204 [==============================] - 1s 4ms/step - loss: 0.1858 - accuracy: 0.9143\n",
      "Epoch 78/100\n",
      "204/204 [==============================] - 1s 4ms/step - loss: 0.1869 - accuracy: 0.9149\n",
      "Epoch 79/100\n",
      "204/204 [==============================] - 1s 5ms/step - loss: 0.1839 - accuracy: 0.9181\n",
      "Epoch 80/100\n",
      "204/204 [==============================] - 1s 4ms/step - loss: 0.1851 - accuracy: 0.9172\n",
      "Epoch 81/100\n",
      "204/204 [==============================] - 1s 4ms/step - loss: 0.1861 - accuracy: 0.9157\n",
      "Epoch 82/100\n",
      "204/204 [==============================] - 1s 4ms/step - loss: 0.1841 - accuracy: 0.9169\n",
      "Epoch 83/100\n",
      "204/204 [==============================] - 1s 4ms/step - loss: 0.1872 - accuracy: 0.9155\n",
      "Epoch 84/100\n",
      "204/204 [==============================] - 1s 3ms/step - loss: 0.1833 - accuracy: 0.9166\n",
      "Epoch 85/100\n",
      "204/204 [==============================] - 1s 3ms/step - loss: 0.1825 - accuracy: 0.9175\n",
      "Epoch 86/100\n",
      "204/204 [==============================] - 1s 3ms/step - loss: 0.1833 - accuracy: 0.9166\n",
      "Epoch 87/100\n",
      "204/204 [==============================] - 1s 3ms/step - loss: 0.1827 - accuracy: 0.9172\n",
      "Epoch 88/100\n",
      "204/204 [==============================] - 1s 3ms/step - loss: 0.1830 - accuracy: 0.9180\n",
      "Epoch 89/100\n",
      "204/204 [==============================] - 1s 3ms/step - loss: 0.1823 - accuracy: 0.9177\n",
      "Epoch 90/100\n",
      "204/204 [==============================] - 1s 3ms/step - loss: 0.1810 - accuracy: 0.9198\n",
      "Epoch 91/100\n",
      "204/204 [==============================] - 1s 3ms/step - loss: 0.1818 - accuracy: 0.9175\n",
      "Epoch 92/100\n",
      "204/204 [==============================] - 1s 3ms/step - loss: 0.1822 - accuracy: 0.9169\n",
      "Epoch 93/100\n",
      "204/204 [==============================] - 1s 3ms/step - loss: 0.1819 - accuracy: 0.9180\n",
      "Epoch 94/100\n",
      "204/204 [==============================] - 1s 3ms/step - loss: 0.1800 - accuracy: 0.9175\n",
      "Epoch 95/100\n",
      "204/204 [==============================] - 1s 3ms/step - loss: 0.1788 - accuracy: 0.9212\n",
      "Epoch 96/100\n",
      "204/204 [==============================] - 1s 3ms/step - loss: 0.1810 - accuracy: 0.9158\n",
      "Epoch 97/100\n",
      "204/204 [==============================] - 1s 3ms/step - loss: 0.1779 - accuracy: 0.9198\n",
      "Epoch 98/100\n",
      "204/204 [==============================] - 1s 3ms/step - loss: 0.1804 - accuracy: 0.9186\n",
      "Epoch 99/100\n",
      "204/204 [==============================] - 1s 3ms/step - loss: 0.1804 - accuracy: 0.9172\n",
      "Epoch 100/100\n",
      "204/204 [==============================] - 1s 3ms/step - loss: 0.1785 - accuracy: 0.9224\n"
     ]
    }
   ],
   "source": [
    "nn_history = neural_network.fit(X_train_onehot, y_train, epochs=100, batch_size=32)\n"
   ]
  },
  {
   "attachments": {},
   "cell_type": "markdown",
   "metadata": {},
   "source": [
    "Evaluate neural network"
   ]
  },
  {
   "cell_type": "code",
   "execution_count": 22,
   "metadata": {},
   "outputs": [
    {
     "name": "stdout",
     "output_type": "stream",
     "text": [
      "51/51 [==============================] - 0s 3ms/step - loss: 0.2345 - accuracy: 0.8954\n"
     ]
    },
    {
     "data": {
      "text/plain": [
       "[0.23449936509132385, 0.8953846096992493]"
      ]
     },
     "execution_count": 22,
     "metadata": {},
     "output_type": "execute_result"
    }
   ],
   "source": [
    "neural_network.evaluate(X_test_onehot, y_test)\n"
   ]
  },
  {
   "attachments": {},
   "cell_type": "markdown",
   "metadata": {},
   "source": [
    "Graph the loss and accuracy"
   ]
  },
  {
   "cell_type": "code",
   "execution_count": 23,
   "metadata": {},
   "outputs": [
    {
     "data": {
      "image/png": "[encoded data removed]",
      "text/plain": [
       "<Figure size 1200x700 with 1 Axes>"
      ]
     },
     "metadata": {},
     "output_type": "display_data"
    }
   ],
   "source": [
    "pd.DataFrame(nn_history.history).plot(figsize=(12, 7))\n",
    "plt.grid(True)\n",
    "plt.xlabel(\"Epoch\")\n",
    "plt.show()\n"
   ]
  },
  {
   "cell_type": "markdown",
   "metadata": {},
   "source": [
    "## Convolutional Neural Network"
   ]
  },
  {
   "cell_type": "code",
   "execution_count": 24,
   "metadata": {},
   "outputs": [],
   "source": [
    "import tensorflow as tf\n",
    "import keras\n",
    "from keras.models import Sequential\n",
    "from keras.layers import (\n",
    "    Dense,\n",
    "    CategoryEncoding,\n",
    "    Conv1D,\n",
    "    MaxPooling1D,\n",
    "    Flatten,\n",
    "    Dropout,\n",
    "    BatchNormalization,\n",
    "    Activation,\n",
    "    Input,\n",
    ")\n",
    "\n",
    "from sklearn.preprocessing import OneHotEncoder\n"
   ]
  },
  {
   "cell_type": "markdown",
   "metadata": {},
   "source": [
    "Encode the data with OneHotEncoder"
   ]
  },
  {
   "cell_type": "code",
   "execution_count": 25,
   "metadata": {},
   "outputs": [
    {
     "name": "stdout",
     "output_type": "stream",
     "text": [
      "117\n",
      "117\n"
     ]
    }
   ],
   "source": [
    "onehot_encoder = OneHotEncoder(sparse_output=False, handle_unknown=\"ignore\")\n",
    "\n",
    "X_train_onehot = onehot_encoder.fit_transform(X_train)\n",
    "X_test_onehot = onehot_encoder.transform(X_test)\n",
    "\n",
    "print(X_train_onehot.shape[1])\n",
    "print(X_test_onehot.shape[1])\n"
   ]
  },
  {
   "cell_type": "markdown",
   "metadata": {},
   "source": [
    "Create the layers for CNN"
   ]
  },
  {
   "cell_type": "code",
   "execution_count": 26,
   "metadata": {},
   "outputs": [],
   "source": [
    "cnn = Sequential()\n",
    "\n",
    "# create convolutional neural network\n",
    "\n",
    "cnn.add(\n",
    "    Conv1D(\n",
    "        filters=16,\n",
    "        kernel_size=3,\n",
    "        strides=1,\n",
    "        padding=\"same\",\n",
    "        input_shape=(X_train_onehot.shape[1], 1),\n",
    "    )\n",
    ")\n",
    "cnn.add(BatchNormalization())\n",
    "cnn.add(Activation(\"relu\"))\n",
    "cnn.add(MaxPooling1D(pool_size=2, strides=2))\n",
    "\n",
    "cnn.add(\n",
    "    Conv1D(\n",
    "        filters=32,\n",
    "        kernel_size=3,\n",
    "        strides=1,\n",
    "        padding=\"same\",\n",
    "    )\n",
    ")\n",
    "\n",
    "cnn.add(BatchNormalization())\n",
    "cnn.add(Activation(\"relu\"))\n",
    "cnn.add(MaxPooling1D(pool_size=2, strides=2))\n",
    "cnn.add(Flatten())\n",
    "\n",
    "cnn.add(Dense(units=16, activation=\"elu\"))\n",
    "cnn.add(Dense(units=16, activation=\"elu\"))\n",
    "cnn.add(Dense(units=1, activation=\"sigmoid\"))\n",
    "\n",
    "cnn.compile(optimizer=\"adam\", loss=\"binary_crossentropy\", metrics=[\"accuracy\"])\n"
   ]
  },
  {
   "cell_type": "code",
   "execution_count": 27,
   "metadata": {},
   "outputs": [
    {
     "name": "stdout",
     "output_type": "stream",
     "text": [
      "Epoch 1/100\n",
      "204/204 [==============================] - 4s 10ms/step - loss: 0.4200 - accuracy: 0.8000\n",
      "Epoch 2/100\n",
      "204/204 [==============================] - 2s 11ms/step - loss: 0.3265 - accuracy: 0.8554\n",
      "Epoch 3/100\n",
      "204/204 [==============================] - 2s 11ms/step - loss: 0.3066 - accuracy: 0.8587\n",
      "Epoch 4/100\n",
      "204/204 [==============================] - 2s 11ms/step - loss: 0.2903 - accuracy: 0.8675\n",
      "Epoch 5/100\n",
      "204/204 [==============================] - 2s 10ms/step - loss: 0.2919 - accuracy: 0.8680\n",
      "Epoch 6/100\n",
      "204/204 [==============================] - 2s 11ms/step - loss: 0.2661 - accuracy: 0.8801\n",
      "Epoch 7/100\n",
      "204/204 [==============================] - 2s 10ms/step - loss: 0.2676 - accuracy: 0.8746\n",
      "Epoch 8/100\n",
      "204/204 [==============================] - 2s 11ms/step - loss: 0.2624 - accuracy: 0.8784\n",
      "Epoch 9/100\n",
      "204/204 [==============================] - 2s 11ms/step - loss: 0.2520 - accuracy: 0.8871\n",
      "Epoch 10/100\n",
      "204/204 [==============================] - 2s 11ms/step - loss: 0.2399 - accuracy: 0.8880\n",
      "Epoch 11/100\n",
      "204/204 [==============================] - 2s 10ms/step - loss: 0.2409 - accuracy: 0.8892\n",
      "Epoch 12/100\n",
      "204/204 [==============================] - 2s 12ms/step - loss: 0.2407 - accuracy: 0.8889\n",
      "Epoch 13/100\n",
      "204/204 [==============================] - 2s 11ms/step - loss: 0.2282 - accuracy: 0.8963\n",
      "Epoch 14/100\n",
      "204/204 [==============================] - 2s 12ms/step - loss: 0.2333 - accuracy: 0.8912\n",
      "Epoch 15/100\n",
      "204/204 [==============================] - 3s 13ms/step - loss: 0.2263 - accuracy: 0.8952\n",
      "Epoch 16/100\n",
      "204/204 [==============================] - 3s 15ms/step - loss: 0.2216 - accuracy: 0.8983\n",
      "Epoch 17/100\n",
      "204/204 [==============================] - 3s 15ms/step - loss: 0.2266 - accuracy: 0.8966\n",
      "Epoch 18/100\n",
      "204/204 [==============================] - 2s 11ms/step - loss: 0.2173 - accuracy: 0.9024\n",
      "Epoch 19/100\n",
      "204/204 [==============================] - 3s 13ms/step - loss: 0.2194 - accuracy: 0.8986\n",
      "Epoch 20/100\n",
      "204/204 [==============================] - 2s 12ms/step - loss: 0.2116 - accuracy: 0.9055\n",
      "Epoch 21/100\n",
      "204/204 [==============================] - 2s 12ms/step - loss: 0.2184 - accuracy: 0.8995\n",
      "Epoch 22/100\n",
      "204/204 [==============================] - 2s 9ms/step - loss: 0.2102 - accuracy: 0.9037\n",
      "Epoch 23/100\n",
      "204/204 [==============================] - 2s 10ms/step - loss: 0.2180 - accuracy: 0.9006\n",
      "Epoch 24/100\n",
      "204/204 [==============================] - 2s 9ms/step - loss: 0.2108 - accuracy: 0.9064\n",
      "Epoch 25/100\n",
      "204/204 [==============================] - 2s 9ms/step - loss: 0.2055 - accuracy: 0.9069\n",
      "Epoch 26/100\n",
      "204/204 [==============================] - 2s 9ms/step - loss: 0.2003 - accuracy: 0.9081\n",
      "Epoch 27/100\n",
      "204/204 [==============================] - 2s 9ms/step - loss: 0.2077 - accuracy: 0.9049\n",
      "Epoch 28/100\n",
      "204/204 [==============================] - 2s 9ms/step - loss: 0.2031 - accuracy: 0.9072\n",
      "Epoch 29/100\n",
      "204/204 [==============================] - 2s 9ms/step - loss: 0.2010 - accuracy: 0.9098\n",
      "Epoch 30/100\n",
      "204/204 [==============================] - 2s 9ms/step - loss: 0.1986 - accuracy: 0.9104\n",
      "Epoch 31/100\n",
      "204/204 [==============================] - 2s 10ms/step - loss: 0.1992 - accuracy: 0.9118\n",
      "Epoch 32/100\n",
      "204/204 [==============================] - 2s 12ms/step - loss: 0.1914 - accuracy: 0.9121\n",
      "Epoch 33/100\n",
      "204/204 [==============================] - 2s 10ms/step - loss: 0.1921 - accuracy: 0.9104\n",
      "Epoch 34/100\n",
      "204/204 [==============================] - 2s 11ms/step - loss: 0.1947 - accuracy: 0.9109\n",
      "Epoch 35/100\n",
      "204/204 [==============================] - 2s 12ms/step - loss: 0.1955 - accuracy: 0.9131\n",
      "Epoch 36/100\n",
      "204/204 [==============================] - 2s 9ms/step - loss: 0.1931 - accuracy: 0.9146\n",
      "Epoch 37/100\n",
      "204/204 [==============================] - 2s 8ms/step - loss: 0.1926 - accuracy: 0.9115\n",
      "Epoch 38/100\n",
      "204/204 [==============================] - 2s 9ms/step - loss: 0.1921 - accuracy: 0.9155\n",
      "Epoch 39/100\n",
      "204/204 [==============================] - 2s 9ms/step - loss: 0.1854 - accuracy: 0.9143\n",
      "Epoch 40/100\n",
      "204/204 [==============================] - 2s 9ms/step - loss: 0.1912 - accuracy: 0.9121\n",
      "Epoch 41/100\n",
      "204/204 [==============================] - 2s 8ms/step - loss: 0.1880 - accuracy: 0.9132\n",
      "Epoch 42/100\n",
      "204/204 [==============================] - 2s 9ms/step - loss: 0.1840 - accuracy: 0.9164\n",
      "Epoch 43/100\n",
      "204/204 [==============================] - 2s 10ms/step - loss: 0.1846 - accuracy: 0.9158\n",
      "Epoch 44/100\n",
      "204/204 [==============================] - 2s 9ms/step - loss: 0.1829 - accuracy: 0.9157\n",
      "Epoch 45/100\n",
      "204/204 [==============================] - 2s 9ms/step - loss: 0.1821 - accuracy: 0.9158\n",
      "Epoch 46/100\n",
      "204/204 [==============================] - 2s 9ms/step - loss: 0.1820 - accuracy: 0.9154\n",
      "Epoch 47/100\n",
      "204/204 [==============================] - 2s 8ms/step - loss: 0.1820 - accuracy: 0.9161\n",
      "Epoch 48/100\n",
      "204/204 [==============================] - 2s 9ms/step - loss: 0.1842 - accuracy: 0.9183\n",
      "Epoch 49/100\n",
      "204/204 [==============================] - 2s 9ms/step - loss: 0.1816 - accuracy: 0.9160\n",
      "Epoch 50/100\n",
      "204/204 [==============================] - 2s 10ms/step - loss: 0.1789 - accuracy: 0.9180\n",
      "Epoch 51/100\n",
      "204/204 [==============================] - 2s 9ms/step - loss: 0.1784 - accuracy: 0.9211\n",
      "Epoch 52/100\n",
      "204/204 [==============================] - 2s 8ms/step - loss: 0.1734 - accuracy: 0.9214\n",
      "Epoch 53/100\n",
      "204/204 [==============================] - 2s 9ms/step - loss: 0.1764 - accuracy: 0.9204\n",
      "Epoch 54/100\n",
      "204/204 [==============================] - 2s 9ms/step - loss: 0.1736 - accuracy: 0.9218\n",
      "Epoch 55/100\n",
      "204/204 [==============================] - 2s 9ms/step - loss: 0.1866 - accuracy: 0.9134\n",
      "Epoch 56/100\n",
      "204/204 [==============================] - 2s 10ms/step - loss: 0.1766 - accuracy: 0.9194\n",
      "Epoch 57/100\n",
      "204/204 [==============================] - 2s 10ms/step - loss: 0.1721 - accuracy: 0.9231\n",
      "Epoch 58/100\n",
      "204/204 [==============================] - 2s 10ms/step - loss: 0.1713 - accuracy: 0.9226\n",
      "Epoch 59/100\n",
      "204/204 [==============================] - 2s 9ms/step - loss: 0.1744 - accuracy: 0.9203\n",
      "Epoch 60/100\n",
      "204/204 [==============================] - 2s 8ms/step - loss: 0.1716 - accuracy: 0.9244\n",
      "Epoch 61/100\n",
      "204/204 [==============================] - 2s 10ms/step - loss: 0.1687 - accuracy: 0.9246\n",
      "Epoch 62/100\n",
      "204/204 [==============================] - 2s 9ms/step - loss: 0.1707 - accuracy: 0.9228\n",
      "Epoch 63/100\n",
      "204/204 [==============================] - 2s 9ms/step - loss: 0.1722 - accuracy: 0.9231\n",
      "Epoch 64/100\n",
      "204/204 [==============================] - 2s 9ms/step - loss: 0.1723 - accuracy: 0.9215\n",
      "Epoch 65/100\n",
      "204/204 [==============================] - 2s 8ms/step - loss: 0.1688 - accuracy: 0.9252\n",
      "Epoch 66/100\n",
      "204/204 [==============================] - 2s 9ms/step - loss: 0.1694 - accuracy: 0.9211\n",
      "Epoch 67/100\n",
      "204/204 [==============================] - 2s 8ms/step - loss: 0.1684 - accuracy: 0.9237\n",
      "Epoch 68/100\n",
      "204/204 [==============================] - 2s 9ms/step - loss: 0.1676 - accuracy: 0.9232\n",
      "Epoch 69/100\n",
      "204/204 [==============================] - 2s 8ms/step - loss: 0.1690 - accuracy: 0.9221\n",
      "Epoch 70/100\n",
      "204/204 [==============================] - 2s 9ms/step - loss: 0.1669 - accuracy: 0.9235\n",
      "Epoch 71/100\n",
      "204/204 [==============================] - 2s 9ms/step - loss: 0.1655 - accuracy: 0.9238\n",
      "Epoch 72/100\n",
      "204/204 [==============================] - 2s 9ms/step - loss: 0.1654 - accuracy: 0.9240\n",
      "Epoch 73/100\n",
      "204/204 [==============================] - 2s 8ms/step - loss: 0.1643 - accuracy: 0.9251\n",
      "Epoch 74/100\n",
      "204/204 [==============================] - 2s 9ms/step - loss: 0.1671 - accuracy: 0.9252\n",
      "Epoch 75/100\n",
      "204/204 [==============================] - 2s 9ms/step - loss: 0.1641 - accuracy: 0.9243\n",
      "Epoch 76/100\n",
      "204/204 [==============================] - 2s 9ms/step - loss: 0.1681 - accuracy: 0.9226\n",
      "Epoch 77/100\n",
      "204/204 [==============================] - 2s 9ms/step - loss: 0.1647 - accuracy: 0.9248\n",
      "Epoch 78/100\n",
      "204/204 [==============================] - 2s 8ms/step - loss: 0.1602 - accuracy: 0.9269\n",
      "Epoch 79/100\n",
      "204/204 [==============================] - 2s 8ms/step - loss: 0.1616 - accuracy: 0.9246\n",
      "Epoch 80/100\n",
      "204/204 [==============================] - 2s 9ms/step - loss: 0.1629 - accuracy: 0.9257\n",
      "Epoch 81/100\n",
      "204/204 [==============================] - 2s 9ms/step - loss: 0.1612 - accuracy: 0.9265\n",
      "Epoch 82/100\n",
      "204/204 [==============================] - 2s 9ms/step - loss: 0.1672 - accuracy: 0.9228\n",
      "Epoch 83/100\n",
      "204/204 [==============================] - 2s 8ms/step - loss: 0.1623 - accuracy: 0.9285\n",
      "Epoch 84/100\n",
      "204/204 [==============================] - 2s 9ms/step - loss: 0.1642 - accuracy: 0.9274\n",
      "Epoch 85/100\n",
      "204/204 [==============================] - 2s 8ms/step - loss: 0.1606 - accuracy: 0.9268\n",
      "Epoch 86/100\n",
      "204/204 [==============================] - 2s 8ms/step - loss: 0.1595 - accuracy: 0.9266\n",
      "Epoch 87/100\n",
      "204/204 [==============================] - 2s 9ms/step - loss: 0.1587 - accuracy: 0.9288\n",
      "Epoch 88/100\n",
      "204/204 [==============================] - 2s 8ms/step - loss: 0.1590 - accuracy: 0.9257\n",
      "Epoch 89/100\n",
      "204/204 [==============================] - 2s 9ms/step - loss: 0.1563 - accuracy: 0.9294\n",
      "Epoch 90/100\n",
      "204/204 [==============================] - 2s 9ms/step - loss: 0.1583 - accuracy: 0.9272\n",
      "Epoch 91/100\n",
      "204/204 [==============================] - 2s 9ms/step - loss: 0.1567 - accuracy: 0.9280\n",
      "Epoch 92/100\n",
      "204/204 [==============================] - 2s 9ms/step - loss: 0.1609 - accuracy: 0.9255\n",
      "Epoch 93/100\n",
      "204/204 [==============================] - 2s 8ms/step - loss: 0.1606 - accuracy: 0.9268\n",
      "Epoch 94/100\n",
      "204/204 [==============================] - 2s 9ms/step - loss: 0.1575 - accuracy: 0.9271\n",
      "Epoch 95/100\n",
      "204/204 [==============================] - 2s 9ms/step - loss: 0.1565 - accuracy: 0.9291\n",
      "Epoch 96/100\n",
      "204/204 [==============================] - 2s 12ms/step - loss: 0.1583 - accuracy: 0.9280\n",
      "Epoch 97/100\n",
      "204/204 [==============================] - 2s 9ms/step - loss: 0.1550 - accuracy: 0.9281\n",
      "Epoch 98/100\n",
      "204/204 [==============================] - 2s 9ms/step - loss: 0.1568 - accuracy: 0.9289\n",
      "Epoch 99/100\n",
      "204/204 [==============================] - 2s 11ms/step - loss: 0.1611 - accuracy: 0.9258\n",
      "Epoch 100/100\n",
      "204/204 [==============================] - 2s 10ms/step - loss: 0.1529 - accuracy: 0.9295\n"
     ]
    }
   ],
   "source": [
    "cnn_history = cnn.fit(\n",
    "    X_train_onehot.reshape(X_train_onehot.shape[0], X_train_onehot.shape[1], 1),\n",
    "    y_train,\n",
    "    epochs=100,\n",
    "    batch_size=32,\n",
    ")\n"
   ]
  },
  {
   "cell_type": "markdown",
   "metadata": {},
   "source": [
    "Evaluate CNN"
   ]
  },
  {
   "cell_type": "code",
   "execution_count": 28,
   "metadata": {},
   "outputs": [
    {
     "name": "stdout",
     "output_type": "stream",
     "text": [
      "51/51 [==============================] - 1s 5ms/step - loss: 0.3629 - accuracy: 0.8855\n"
     ]
    },
    {
     "data": {
      "text/plain": [
       "[0.3628914952278137, 0.8855384588241577]"
      ]
     },
     "execution_count": 28,
     "metadata": {},
     "output_type": "execute_result"
    }
   ],
   "source": [
    "cnn.evaluate(X_test_onehot.reshape(X_test_onehot.shape[0], X_test_onehot.shape[1], 1), y_test)\n"
   ]
  },
  {
   "cell_type": "markdown",
   "metadata": {},
   "source": [
    "Plot the loss and accuracy for CNN"
   ]
  },
  {
   "cell_type": "code",
   "execution_count": 29,
   "metadata": {},
   "outputs": [
    {
     "data": {
      "image/png": "[encoded data removed]",
      "text/plain": [
       "<Figure size 1200x700 with 1 Axes>"
      ]
     },
     "metadata": {},
     "output_type": "display_data"
    }
   ],
   "source": [
    "pd.DataFrame(cnn_history.history).plot(figsize=(12, 7))\n",
    "plt.grid(True)\n",
    "plt.xlabel(\"Epoch\")\n",
    "plt.show()\n"
   ]
  }
 ],
 "metadata": {
  "kernelspec": {
   "display_name": "Python 3",
   "language": "python",
   "name": "python3"
  },
  "language_info": {
   "codemirror_mode": {
    "name": "ipython",
    "version": 3
   },
   "file_extension": ".py",
   "mimetype": "text/x-python",
   "name": "python",
   "nbconvert_exporter": "python",
   "pygments_lexer": "ipython3",
   "version": "3.10.6"
  },
  "orig_nbformat": 4
 },
 "nbformat": 4,
 "nbformat_minor": 2
}
